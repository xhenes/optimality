{
 "cells": [
  {
   "cell_type": "code",
   "execution_count": null,
   "metadata": {},
   "outputs": [],
   "source": [
    "from pylab import *\n",
    "import pandas as pd\n",
    "import matplotlib.pyplot as plt\n",
    "from scipy import *\n",
    "from numpy import *\n",
    "import neuron\n",
    "import pyNN\n",
    "from pyNN import neuron\n",
    "from pyNN.standardmodels import electrodes, build_translations, StandardCurrentSource\n",
    "from pyNN.parameters import ParameterSpace, Sequence\n",
    "from pyNN.neuron import simulator\n",
    "from pyNN.utility import get_simulator, normalized_filename\n",
    "from pyNN.utility.plotting import Figure, Panel\n",
    "from neuron import h\n",
    "from quantities import mV\n",
    "%matplotlib inline\n",
    "from pyNN import neuron"
   ]
  },
  {
   "cell_type": "code",
   "execution_count": null,
   "metadata": {},
   "outputs": [],
   "source": [
    "amps = linspace(0, 10, 100)\n",
    "cell = neuron.Population(100, neuron.IF_curr_exp(v_thresh = -50.0, tau_refrac = 5.0, tau_m = 10.0))\n",
    "for cell_id in arange(0,99):\n",
    "    pulse = neuron.ACSource(start = 20.0, stop = 80.0, amplitude = amps[cell_id], offset = 0.1, frequency = 10, phase = 180.0)\n",
    "    cell[cell_id].inject(pulse)"
   ]
  },
  {
   "cell_type": "code",
   "execution_count": null,
   "metadata": {},
   "outputs": [],
   "source": [
    "cell.record('v')"
   ]
  },
  {
   "cell_type": "code",
   "execution_count": null,
   "metadata": {},
   "outputs": [],
   "source": [
    "neuron.run(100.0)"
   ]
  },
  {
   "cell_type": "code",
   "execution_count": null,
   "metadata": {},
   "outputs": [],
   "source": [
    "vm = cell.get_data().segments[0].filter(name = \"v\")[0]"
   ]
  },
  {
   "cell_type": "code",
   "execution_count": null,
   "metadata": {},
   "outputs": [],
   "source": [
    "vm"
   ]
  },
  {
   "cell_type": "code",
   "execution_count": null,
   "metadata": {},
   "outputs": [],
   "source": [
    "neuron.end()"
   ]
  },
  {
   "cell_type": "code",
   "execution_count": null,
   "metadata": {},
   "outputs": [],
   "source": [
    "Figure(\n",
    "        Panel(vm, y_offset=-10 * mV, xticks=True, yticks=True,\n",
    "              xlabel=\"Time (ms)\", ylabel=\"Membrane potential (mV)\",\n",
    "              ylim=(-1500, 0)),\n",
    "        title=\"Current injection example\"\n",
    ")"
   ]
  },
  {
   "cell_type": "code",
   "execution_count": null,
   "metadata": {},
   "outputs": [],
   "source": [
    "print(vm)"
   ]
  },
  {
   "cell_type": "code",
   "execution_count": null,
   "metadata": {},
   "outputs": [],
   "source": []
  }
 ],
 "metadata": {
  "kernelspec": {
   "display_name": "Python 3",
   "language": "python",
   "name": "python3"
  },
  "language_info": {
   "codemirror_mode": {
    "name": "ipython",
    "version": 3
   },
   "file_extension": ".py",
   "mimetype": "text/x-python",
   "name": "python",
   "nbconvert_exporter": "python",
   "pygments_lexer": "ipython3",
   "version": "3.6.3"
  }
 },
 "nbformat": 4,
 "nbformat_minor": 2
}

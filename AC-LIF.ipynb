{
 "cells": [
  {
   "cell_type": "code",
   "execution_count": 1,
   "metadata": {},
   "outputs": [],
   "source": [
    "%matplotlib inline\n",
    "from pylab import *\n",
    "from numpy import *\n",
    "import neuron\n",
    "import pyNN\n",
    "from pyNN import neuron\n",
    "from pyNN.standardmodels import electrodes, build_translations, StandardCurrentSource\n",
    "from pyNN.parameters import ParameterSpace, Sequence\n",
    "from pyNN.neuron import simulator\n",
    "from pyNN.utility import get_simulator, normalized_filename\n",
    "from pyNN.utility.plotting import Figure, Panel\n",
    "from neuron import h\n",
    "from quantities import mV,Hz, s ,ms\n",
    "import elephant as ep\n",
    "import elephant.kernels as kernels\n",
    "from elephant.spike_train_generation import threshold_detection\n",
    "from elephant.spike_train_dissimilarity import victor_purpura_dist\n",
    "from elephant.spike_train_dissimilarity import van_rossum_dist\n",
    "import seaborn as sns\n",
    "import neo\n",
    "import quantities as pq\n",
    "import numpy as np\n",
    "from scipy.optimize import minimize, fmin\n",
    "from sklearn import preprocessing\n",
    "from operator import add"
   ]
  },
  {
   "cell_type": "code",
   "execution_count": 2,
   "metadata": {},
   "outputs": [],
   "source": [
    "def optimize(*args):\n",
    "#The function, optimize as defined below is used to find the neuron, given the parameters chosen, that is most likely\n",
    "#to produce similar if not the same results for spikes. Given the use of distance functions to determine similarity\n",
    "#between neurons, where 0 is the most similar, all values are mapped or normalized such that the ideal score, is 0 \n",
    "#or as clost to 0. The scoring works in such as way that we add up the values given by the mapping of the correlation\n",
    "#coefficient, and the distance determined by victor_prupura and van_rossum. Given the statement of 0 being the most\n",
    "#desired value, the correlation coefficient is mapped such that the highest correlation, 1 becomes 0, and the lowest\n",
    "#correlation is mapped to what would be the highest value. Then, given the distance matrices determined by the methods\n",
    "#noted above, the scores are normalized such that the highest value in each array of the x-by-x matrix of distance is\n",
    "#determined to be 1, and the lowest value 0, scaling all values in between. The values are then summed element-wise,\n",
    "#whereby, the optimal solution is 0 or nearly 0 and the worst solution is at most 3. The array is turned into a list\n",
    "#to remove the target so as to ensure the target can never be picked. Then the min() command is used to determine the\n",
    "#lowest value, bar the target itself. This allows us to then determine the neuron, its score and its v-thresh.\n",
    "\n",
    "#def optimize(a, b, c, d, e, f, g, h, i, j, k, l, m)\n",
    "#a is start of linspace for voltage threshhold of the cell\n",
    "#b is the end of the linspace\n",
    "#c is the number of steps\n",
    "#d is the start time for the source current\n",
    "#e is the end time for the current\n",
    "#f is the amplitude of the current\n",
    "#g is the the offset\n",
    "#h is the frequency \n",
    "#i is the phase\n",
    "#d-i would come as the followingL\n",
    "#start = 20.0, stop = 80.0, amplitude = -10, offset = 0.1, frequency = 10, phase = 180.0\n",
    "#j is the total run time for the model\n",
    "#k is the target column of the voltage outputs given by the model\n",
    "#l is the penalty value (hertz) for victor_purpura_dist function (distance function)\n",
    "#m is the penalty value (time) for van_rossum_dist function (distance function)\n",
    "    thresh = linspace(a, b, c)\n",
    "    #amps = linspace()\n",
    "    #print(thresh)\n",
    "    cell = neuron.Population(c, neuron.IF_curr_exp(v_thresh = -50, tau_refrac = 5.0, tau_m = 10.0))\n",
    "    for cell_id in arange(0,c,1):\n",
    "        #print(cell_id)\n",
    "        cell[cell_id:(cell_id+1)].set(v_thresh= thresh[cell_id])\n",
    "        pulse = neuron.ACSource(start = d, stop = e, amplitude = f, offset = g, frequency = h, phase = i)\n",
    "        cell[cell_id].inject(pulse)\n",
    "        #for cell_id in arange(0,500):\n",
    "            #pulse = neuron.ACSource(start = 20.0, stop = 80.0, amplitude = amps[cell_id], offset = 0.1, frequency = 10, phase = 180.0)\n",
    "            #cell[cell_id].inject(pulse)\n",
    "    cell.record('v')\n",
    "    neuron.run(j)\n",
    "    cell.get('v_thresh')\n",
    "    vm = cell.get_data().segments[0].filter(name = \"v\")[0]\n",
    "    Tvm = vm.T\n",
    "    #transpose matrix, mentally just works better in my head \n",
    "    Tvmc = corrcoef(Tvm)\n",
    "    targetTvmc = Tvmc[k,:]\n",
    "    ttarget = lambda targetTvmci:(1-targetTvmci)/(1-targetTvmc.min())\n",
    "    #maps values in the targeted correlation coefficient array so that 1, being the highest correlation is mapped to 0 \n",
    "    #and 0 representing the lowest correlation is mapped to 1\n",
    "    ttarget = np.vectorize(ttarget)\n",
    "    true = ttarget(targetTvmc)\n",
    "    #currently working to create a loop that would allow for the creation of a column vector for each column to be analyzed and compated\n",
    "    savetxt('truetarget.txt', true)\n",
    "    trains = {}\n",
    "    for cell_id in arange(0,c):\n",
    "        trains[cell_id] = threshold_detection(vm[:,cell_id], threshold=-56.00*mV, sign='above')\n",
    "    distance_matrix1 = victor_purpura_dist(trains.values(), q=array(l) * Hz)\n",
    "    distance_matrix_1 = np.asarray(distance_matrix1)\n",
    "    d1_norm = preprocessing.normalize(distance_matrix_1, norm = 'max', copy = False)\n",
    "    #normalizes the victor_purpura distance function output on the target array where the max is 1\n",
    "    t1 = d1_norm[k,:]\n",
    "    \n",
    "    distance_matrix2 = van_rossum_dist(trains.values(), tau=array(m) * pq.ms, sort = True)\n",
    "    distance_matrix_2 = np.asarray(distance_matrix2)\n",
    "    d2_norm = preprocessing.normalize(distance_matrix_2, norm = 'max', copy = False)\n",
    "    t2 = d2_norm[k,:]\n",
    "    #normalizes the van_rossum distance function output on the target array where the max is 1\n",
    "    \n",
    "    ntot = true + t1 + t2\n",
    "    #total score \n",
    "    print(\"The target is neuron\",k, \"with voltage threshhold\", thresh[k], \"mV and a score of\", ntot[k])\n",
    "\n",
    "    l_ntot = ntot.tolist()\n",
    "    l_ntot.pop(k)\n",
    "    #pops out the target from the total score array so that when determining the most optimal solution to obtain the\n",
    "    #target, the target is not inadvertantly picked.\n",
    "    opt_ntot = np.asarray(l_ntot)\n",
    "    \n",
    "    \n",
    "    plt.plot(ntot, '--bo')\n",
    "    plt.ylabel('some numbers')\n",
    "    plt.xticks(range(c))\n",
    "    plt.show()\n",
    "    #plots the values from the scoring array\n",
    "    sols = min(opt_ntot)\n",
    "    for ii in range(len(ntot)):\n",
    "        if (sols == ntot[ii]):\n",
    "            print(\"The Optimal Neuron is\",ii, \"with a voltage threshold of\", thresh[ii], \"mV and a score of\", ntot[ii])\n",
    "    return "
   ]
  },
  {
   "cell_type": "code",
   "execution_count": 3,
   "metadata": {},
   "outputs": [
    {
     "name": "stdout",
     "output_type": "stream",
     "text": [
      "[-80.         -79.5959596  -79.19191919 -78.78787879 -78.38383838\n",
      " -77.97979798 -77.57575758 -77.17171717 -76.76767677 -76.36363636\n",
      " -75.95959596 -75.55555556 -75.15151515 -74.74747475 -74.34343434\n",
      " -73.93939394 -73.53535354 -73.13131313 -72.72727273 -72.32323232\n",
      " -71.91919192 -71.51515152 -71.11111111 -70.70707071 -70.3030303\n",
      " -69.8989899  -69.49494949 -69.09090909 -68.68686869 -68.28282828\n",
      " -67.87878788 -67.47474747 -67.07070707 -66.66666667 -66.26262626\n",
      " -65.85858586 -65.45454545 -65.05050505 -64.64646465 -64.24242424\n",
      " -63.83838384 -63.43434343 -63.03030303 -62.62626263 -62.22222222\n",
      " -61.81818182 -61.41414141 -61.01010101 -60.60606061 -60.2020202\n",
      " -59.7979798  -59.39393939 -58.98989899 -58.58585859 -58.18181818\n",
      " -57.77777778 -57.37373737 -56.96969697 -56.56565657 -56.16161616\n",
      " -55.75757576 -55.35353535 -54.94949495 -54.54545455 -54.14141414\n",
      " -53.73737374 -53.33333333 -52.92929293 -52.52525253 -52.12121212\n",
      " -51.71717172 -51.31313131 -50.90909091 -50.50505051 -50.1010101\n",
      " -49.6969697  -49.29292929 -48.88888889 -48.48484848 -48.08080808\n",
      " -47.67676768 -47.27272727 -46.86868687 -46.46464646 -46.06060606\n",
      " -45.65656566 -45.25252525 -44.84848485 -44.44444444 -44.04040404\n",
      " -43.63636364 -43.23232323 -42.82828283 -42.42424242 -42.02020202\n",
      " -41.61616162 -41.21212121 -40.80808081 -40.4040404  -40.        ]\n",
      "The target is neuron 50 with voltage threshhold -59.7979797979798 mV and a score of 0.0\n"
     ]
    },
    {
     "data": {
      "image/png": "[encoded data removed]",
      "text/plain": [
       "<matplotlib.figure.Figure at 0x1c14f7d080>"
      ]
     },
     "metadata": {},
     "output_type": "display_data"
    },
    {
     "name": "stdout",
     "output_type": "stream",
     "text": [
      "The Optimal Neuron is 49 with a voltage threshold of -60.2020202020202 mV and a score of 0.007394229725017229\n"
     ]
    }
   ],
   "source": [
    "a = -80\n",
    "#a is start of linspace for voltage threshhold of the cell\n",
    "b = -40\n",
    "#b is the end of the linspace\n",
    "c = 100\n",
    "#c is the number of steps\n",
    "d = 20\n",
    "#d is the start time for the source current\n",
    "e = 90\n",
    "#e is the end time for the current\n",
    "f = -5\n",
    "#f is the amplitude of the current\n",
    "g = .05\n",
    "#g is the the offset\n",
    "h = 15\n",
    "#h is the frequency \n",
    "i = 180\n",
    "#i is the phase\n",
    "#d-i would come as the followingL\n",
    "#start = 20.0, stop = 80.0, amplitude = -10, offset = 0.1, frequency = 10, phase = 180.0\n",
    "j = 100.0\n",
    "#j is the total run time for the model\n",
    "k = 50\n",
    "#k is the target column of the voltage outputs given by the model\n",
    "l = 50.0\n",
    "#l is the penalty value (hertz) for victor_purpura_dist function (distance function)\n",
    "m = 10.0\n",
    "#m is the penalty value (time) for van_rossum_dist function (distance function)\n",
    "\n",
    "aa = [(a, b, c, d, e, f, g, h, i, j, k, l, m)]\n",
    "isinstance(aa, list)\n",
    "bb = np.asarray(aa)\n",
    "optimize(*bb)"
   ]
  },
  {
   "cell_type": "code",
   "execution_count": 2,
   "metadata": {},
   "outputs": [
    {
     "data": {
      "text/plain": [
       "'Practice'"
      ]
     },
     "execution_count": 2,
     "metadata": {},
     "output_type": "execute_result"
    }
   ],
   "source": [
    "\"Practice\""
   ]
  },
  {
   "cell_type": "code",
   "execution_count": 2,
   "metadata": {},
   "outputs": [
    {
     "name": "stdout",
     "output_type": "stream",
     "text": [
      "0\n",
      "1\n",
      "2\n",
      "3\n",
      "4\n",
      "5\n",
      "6\n",
      "7\n",
      "8\n",
      "9\n"
     ]
    }
   ],
   "source": [
    "thresh = linspace(-70, -50, 10)\n",
    "cell = neuron.Population(10, neuron.IF_curr_exp(v_thresh = -50, tau_refrac = 5.0, tau_m = 10.0))\n",
    "for cell_id in arange(0,10,1):\n",
    "    print(cell_id)\n",
    "    cell[cell_id:(cell_id+1)].set(v_thresh= thresh[cell_id])\n",
    "    pulse = neuron.ACSource(start = 20.0, stop = 80.0, amplitude = -10, offset = 0.1, frequency = 10, phase = 180.0)\n",
    "    cell[cell_id].inject(pulse)\n",
    "#for cell_id in arange(0,500):\n",
    "#pulse = neuron.ACSource(start = 20.0, stop = 80.0, amplitude = amps[cell_id], offset = 0.1, frequency = 10, phase = 180.0)\n",
    "    cell[cell_id].inject(pulse)\n",
    "cell.record('v')\n",
    "neuron.run(100.0)\n",
    "vm = cell.get_data().segments[0].filter(name = \"v\")[0]"
   ]
  },
  {
   "cell_type": "code",
   "execution_count": 3,
   "metadata": {},
   "outputs": [],
   "source": [
    "Tvm = vm.T\n",
    "target = Tvm[3,:]\n",
    "Tvmc = corrcoef(Tvm)\n",
    "targetTvmc = Tvmc[3,:]\n",
    "ttarget = lambda targetTvmci:(1-targetTvmci)/(1-targetTvmc.min())\n",
    "ttarget = np.vectorize(ttarget)\n",
    "true = ttarget(targetTvmc)"
   ]
  },
  {
   "cell_type": "code",
   "execution_count": 4,
   "metadata": {},
   "outputs": [
    {
     "name": "stdout",
     "output_type": "stream",
     "text": [
      "[25.775] ms\n",
      "[25.775] ms\n",
      "[25.775] ms\n",
      "[25.775 32.725 39.    45.15  51.35  57.85  66.3  ] ms\n",
      "[25.775 33.4   39.975 46.375 52.85  59.875] ms\n",
      "[25.775 34.05  40.95  47.575 54.4   62.1  ] ms\n"
     ]
    }
   ],
   "source": [
    "trains = {}\n",
    "for cell_id in arange(10):\n",
    "    trains[cell_id] = threshold_detection(vm[:, cell_id], threshold = -56.00*mV, sign = 'above')\n",
    "for train in trains.values():\n",
    "    if (len(train) > 0):\n",
    "        print(train)"
   ]
  },
  {
   "cell_type": "code",
   "execution_count": 5,
   "metadata": {},
   "outputs": [],
   "source": [
    "distance_matrix1 = victor_purpura_dist(trains.values(), q=array(80.0) * Hz)\n",
    "#print(distance_matrix1)\n",
    "d1_norm = preprocessing.normalize(distance_matrix1)\n",
    "#sns.heatmap(distance_matrix1)\n",
    "#print(d1_norm)\n",
    "t_d1 = d1_norm[3,:]"
   ]
  },
  {
   "cell_type": "code",
   "execution_count": 6,
   "metadata": {},
   "outputs": [],
   "source": [
    "distance_matrix2 = van_rossum_dist(trains.values(), tau=array(10.0) * pq.ms, sort = True)\n",
    "#sns.heatmap(distance_matrix2)\n",
    "d2_norm = preprocessing.normalize(distance_matrix2)\n",
    "#print(distance_matrix2)\n",
    "#print(d2_norm)\n",
    "t_d2 = d2_norm[3,:]"
   ]
  },
  {
   "cell_type": "code",
   "execution_count": 9,
   "metadata": {},
   "outputs": [
    {
     "name": "stdout",
     "output_type": "stream",
     "text": [
      "Total With Target:\n",
      "[1.22475766e+00 1.23305674e+00 1.22475766e+00 3.88787331e-16\n",
      " 1.56287113e-02 4.27333102e-02 7.39937578e-02 1.39684273e+00\n",
      " 1.27837843e+00 1.31051918e+00]\n",
      "Total W/O Target:\n",
      "[1.22475766 1.23305674 1.22475766 0.01562871 0.04273331 0.07399376\n",
      " 1.39684273 1.27837843 1.31051918]\n"
     ]
    }
   ],
   "source": [
    "ntot = true + t_d1 + t_d2\n",
    "#print(\"Total Scale\")\n",
    "#print(ntot)\n",
    "l_ntot = ntot.tolist()\n",
    "l_ntot.pop(3)\n",
    "#print(l_ntot)\n",
    "opt_ntot = np.asarray(l_ntot)\n",
    "print(\"Total With Target:\")\n",
    "print(ntot)\n",
    "print(\"Total W/O Target:\")\n",
    "print(opt_ntot)"
   ]
  },
  {
   "cell_type": "code",
   "execution_count": 20,
   "metadata": {},
   "outputs": [
    {
     "data": {
      "image/png": "[encoded data removed]",
      "text/plain": [
       "<matplotlib.figure.Figure at 0x1c12decef0>"
      ]
     },
     "metadata": {},
     "output_type": "display_data"
    },
    {
     "data": {
      "text/plain": [
       "range(0, 8)"
      ]
     },
     "execution_count": 20,
     "metadata": {},
     "output_type": "execute_result"
    }
   ],
   "source": [
    "y = opt_ntot\n",
    "x = arange(len(y))\n",
    "z = np.polyfit(x, y, 8)\n",
    "f = np.poly1d(z)\n",
    "x_new = np.linspace(x[8], x[0], 50)\n",
    "y_new = f(x_new)\n",
    "plt.plot(x, y, 'k*', x_new, y_new, '--bo')\n",
    "plt.ylabel('some numbers')\n",
    "plt.show()"
   ]
  },
  {
   "cell_type": "code",
   "execution_count": 24,
   "metadata": {},
   "outputs": [],
   "source": [
    "x = y = z = [None]\n",
    "temp = opt_ntot\n",
    "for i in range(len(opt_ntot)-1):\n",
    "    if (opt_ntot[i]>temp[i+1]):\n",
    "        temp +=1\n",
    "        "
   ]
  },
  {
   "cell_type": "code",
   "execution_count": 7,
   "metadata": {},
   "outputs": [],
   "source": [
    "a = [[1, 3, 4, 56, 9, 100],[1, 3, 4, 56, 9, 10]]\n",
    "b = np.asarray(a)"
   ]
  },
  {
   "cell_type": "code",
   "execution_count": 8,
   "metadata": {},
   "outputs": [
    {
     "name": "stdout",
     "output_type": "stream",
     "text": [
      "[[0.01       0.03       0.04       0.56       0.09       1.        ]\n",
      " [0.01785714 0.05357143 0.07142857 1.         0.16071429 0.17857143]]\n"
     ]
    }
   ],
   "source": [
    "norm = preprocessing.normalize(b, norm = 'max', copy = False)\n",
    "print(norm)"
   ]
  },
  {
   "cell_type": "code",
   "execution_count": null,
   "metadata": {},
   "outputs": [],
   "source": []
  }
 ],
 "metadata": {
  "kernelspec": {
   "display_name": "Python 3",
   "language": "python",
   "name": "python3"
  },
  "language_info": {
   "codemirror_mode": {
    "name": "ipython",
    "version": 3
   },
   "file_extension": ".py",
   "mimetype": "text/x-python",
   "name": "python",
   "nbconvert_exporter": "python",
   "pygments_lexer": "ipython3",
   "version": "3.6.3"
  }
 },
 "nbformat": 4,
 "nbformat_minor": 2
}

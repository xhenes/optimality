{
 "cells": [
  {
   "cell_type": "code",
   "execution_count": null,
   "metadata": {},
   "outputs": [],
   "source": [
    "from pylab import *\n",
    "import pandas as pd\n",
    "import matplotlib.pyplot as plt\n",
    "from scipy import *\n",
    "from numpy import *\n",
    "import neuron\n",
    "import pyNN\n",
    "from pyNN import neuron\n",
    "from pyNN.standardmodels import electrodes, build_translations, StandardCurrentSource\n",
    "from pyNN.parameters import ParameterSpace, Sequence\n",
    "from pyNN.neuron import simulator\n",
    "from pyNN.utility import get_simulator, normalized_filename\n",
    "from pyNN.utility.plotting import Figure, Panel\n",
    "from neuron import h\n",
    "from quantities import mV\n",
    "%matplotlib inline\n",
    "from pyNN import neuron"
   ]
  },
  {
   "cell_type": "code",
   "execution_count": null,
   "metadata": {},
   "outputs": [],
   "source": [
    "cell = neuron.Population(1, neuron.IF_curr_exp(v_thresh = -50.0, tau_refrac = 5.0, tau_m = 10.0))\n",
    "pulse = neuron.StepCurrentSource(times = [10.0, 60.0, 110.0, 160.0, 210.0, 260.0], amplitudes = [-5.0, -2.5, -0.3, 1.5, 3.5, 4.7])\n",
    "cell.inject(pulse)"
   ]
  },
  {
   "cell_type": "code",
   "execution_count": null,
   "metadata": {},
   "outputs": [],
   "source": [
    "cell.record('v')"
   ]
  },
  {
   "cell_type": "code",
   "execution_count": null,
   "metadata": {},
   "outputs": [],
   "source": [
    "neuron.run(350.0)"
   ]
  },
  {
   "cell_type": "code",
   "execution_count": null,
   "metadata": {},
   "outputs": [],
   "source": [
    "vm = cell.get_data().segments[0].filter(name = \"v\")[0]\n",
    "vm"
   ]
  },
  {
   "cell_type": "code",
   "execution_count": null,
   "metadata": {},
   "outputs": [],
   "source": [
    "Figure(\n",
    "        Panel(vm, y_offset=-10 * mV, xticks=True, yticks=True,\n",
    "              xlabel=\"Time (ms)\", ylabel=\"Membrane potential (mV)\",\n",
    "              ylim=(-150, 0)),\n",
    "        title=\"Current injection example\"\n",
    ")"
   ]
  },
  {
   "cell_type": "code",
   "execution_count": null,
   "metadata": {},
   "outputs": [],
   "source": [
    "print(vm)"
   ]
  },
  {
   "cell_type": "code",
   "execution_count": null,
   "metadata": {},
   "outputs": [],
   "source": []
  }
 ],
 "metadata": {
  "kernelspec": {
   "display_name": "Python 3",
   "language": "python",
   "name": "python3"
  },
  "language_info": {
   "codemirror_mode": {
    "name": "ipython",
    "version": 3
   },
   "file_extension": ".py",
   "mimetype": "text/x-python",
   "name": "python",
   "nbconvert_exporter": "python",
   "pygments_lexer": "ipython3",
   "version": "3.6.3"
  }
 },
 "nbformat": 4,
 "nbformat_minor": 2
}

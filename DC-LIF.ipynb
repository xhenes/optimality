{
 "cells": [
  {
   "cell_type": "code",
   "execution_count": 1,
   "metadata": {},
   "outputs": [],
   "source": [
    "from pylab import *\n",
    "import pandas as pd\n",
    "import matplotlib.pyplot as plt\n",
    "from scipy import *\n",
    "from numpy import *\n",
    "import neuron\n",
    "import pyNN\n",
    "from pyNN import neuron\n",
    "from pyNN.standardmodels import electrodes, build_translations, StandardCurrentSource\n",
    "from pyNN.parameters import ParameterSpace, Sequence\n",
    "from pyNN.neuron import simulator\n",
    "from pyNN.utility import get_simulator, normalized_filename\n",
    "from pyNN.utility.plotting import Figure, Panel\n",
    "from neuron import h\n",
    "from quantities import mV\n",
    "%matplotlib inline"
   ]
  },
  {
   "cell_type": "code",
   "execution_count": 2,
   "metadata": {},
   "outputs": [
    {
     "data": {
      "text/plain": [
       "['__all__',\n",
       " '__builtins__',\n",
       " '__cached__',\n",
       " '__doc__',\n",
       " '__file__',\n",
       " '__loader__',\n",
       " '__name__',\n",
       " '__package__',\n",
       " '__path__',\n",
       " '__spec__',\n",
       " '__version__',\n",
       " 'common',\n",
       " 'connectors',\n",
       " 'core',\n",
       " 'descriptions',\n",
       " 'errors',\n",
       " 'models',\n",
       " 'neuron',\n",
       " 'parameters',\n",
       " 'random',\n",
       " 'recording',\n",
       " 'space',\n",
       " 'standardmodels',\n",
       " 'utility']"
      ]
     },
     "execution_count": 2,
     "metadata": {},
     "output_type": "execute_result"
    }
   ],
   "source": [
    "dir(pyNN)"
   ]
  },
  {
   "cell_type": "code",
   "execution_count": 3,
   "metadata": {},
   "outputs": [],
   "source": [
    "from pyNN import neuron"
   ]
  },
  {
   "cell_type": "code",
   "execution_count": 4,
   "metadata": {},
   "outputs": [],
   "source": [
    "camp = linspace(-100, 300, 20)\n",
    "#vamp = linspace(-40, -100, 12)\n",
    "#cell = neuron.Population(20)\n",
    "cell = neuron.Population(20, neuron.IF_curr_exp(v_thresh = -50.0, tau_refrac = 5.0, tau_m = 10.0))\n",
    "for cell_id in arange(0,19):\n",
    "    #for vamp_id in arange(-40,-100):\n",
    "    pulse = neuron.DCSource(amplitude = camp[cell_id], start = 10.0, stop = 60.0)\n",
    "    cell[cell_id].inject(pulse)"
   ]
  },
  {
   "cell_type": "code",
   "execution_count": 5,
   "metadata": {},
   "outputs": [],
   "source": [
    "cell.record('v')"
   ]
  },
  {
   "cell_type": "code",
   "execution_count": 6,
   "metadata": {},
   "outputs": [
    {
     "data": {
      "text/plain": [
       "100.00000000001417"
      ]
     },
     "execution_count": 6,
     "metadata": {},
     "output_type": "execute_result"
    }
   ],
   "source": [
    "neuron.run(100.0)"
   ]
  },
  {
   "cell_type": "code",
   "execution_count": 7,
   "metadata": {},
   "outputs": [],
   "source": [
    "vm = cell.get_data().segments[0].filter(name = \"v\")[0]"
   ]
  },
  {
   "cell_type": "code",
   "execution_count": 8,
   "metadata": {
    "scrolled": true
   },
   "outputs": [
    {
     "data": {
      "text/plain": [
       "AnalogSignal with 20 channels of length 4001; units mV; datatype float64 \n",
       "name: 'v'\n",
       "annotations: {'source_ids': array([ 0,  1,  2,  3,  4,  5,  6,  7,  8,  9, 10, 11, 12, 13, 14, 15, 16,\n",
       "         17, 18, 19]), 'source_population': 'population0'}\n",
       "sampling rate: 40.0 1/ms\n",
       "time: 0.0 ms to 100.025 ms"
      ]
     },
     "execution_count": 8,
     "metadata": {},
     "output_type": "execute_result"
    }
   ],
   "source": [
    "vm"
   ]
  },
  {
   "cell_type": "code",
   "execution_count": 9,
   "metadata": {},
   "outputs": [],
   "source": [
    "neuron.end()"
   ]
  },
  {
   "cell_type": "code",
   "execution_count": 10,
   "metadata": {},
   "outputs": [
    {
     "data": {
      "text/plain": [
       "<pyNN.utility.plotting.Figure at 0x1a0e7132b0>"
      ]
     },
     "execution_count": 10,
     "metadata": {},
     "output_type": "execute_result"
    },
    {
     "data": {
      "image/png": "[encoded data removed]",
      "text/plain": [
       "<matplotlib.figure.Figure at 0x1a0e713320>"
      ]
     },
     "metadata": {},
     "output_type": "display_data"
    }
   ],
   "source": [
    "Figure(\n",
    "        Panel(vm, y_offset=-10 * mV, xticks=True, yticks=True,\n",
    "              xlabel=\"Time (ms)\", ylabel=\"Membrane potential (mV)\",\n",
    "              ylim=(-1250, 1550)),\n",
    "        title=\"Current injection example\"\n",
    ")"
   ]
  },
  {
   "cell_type": "code",
   "execution_count": 11,
   "metadata": {},
   "outputs": [
    {
     "name": "stdout",
     "output_type": "stream",
     "text": [
      "[[ -65.          -75.          -85.         ..., -235.         -245.         -255.        ]\n",
      " [ -65.          -75.          -85.         ..., -235.         -245.         -255.        ]\n",
      " [ -65.          -75.          -85.         ..., -235.         -245.         -255.        ]\n",
      " ..., \n",
      " [ -83.37401635  -89.50580238  -95.63758841 ..., -235.         -245.         -255.        ]\n",
      " [ -83.32819586  -89.46962831  -95.61106076 ..., -235.         -245.         -255.        ]\n",
      " [ -83.28248964  -89.43354445  -95.58459926 ..., -235.         -245.         -255.        ]] mV\n"
     ]
    }
   ],
   "source": [
    "print (vm)"
   ]
  },
  {
   "cell_type": "code",
   "execution_count": null,
   "metadata": {},
   "outputs": [],
   "source": []
  }
 ],
 "metadata": {
  "kernelspec": {
   "display_name": "Python 3",
   "language": "python",
   "name": "python3"
  },
  "language_info": {
   "codemirror_mode": {
    "name": "ipython",
    "version": 3
   },
   "file_extension": ".py",
   "mimetype": "text/x-python",
   "name": "python",
   "nbconvert_exporter": "python",
   "pygments_lexer": "ipython3",
   "version": "3.6.3"
  }
 },
 "nbformat": 4,
 "nbformat_minor": 2
}
